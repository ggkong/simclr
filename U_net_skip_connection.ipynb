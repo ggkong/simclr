{
 "cells": [
  {
   "cell_type": "code",
   "execution_count": 1,
   "id": "initial_id",
   "metadata": {
    "collapsed": true,
    "ExecuteTime": {
     "end_time": "2025-03-26T05:03:23.644136400Z",
     "start_time": "2025-03-26T05:03:17.203192200Z"
    }
   },
   "outputs": [],
   "source": [
    "import torch\n",
    "import torch.nn as nn\n",
    "import torch.nn.functional as F"
   ]
  },
  {
   "cell_type": "code",
   "execution_count": 2,
   "outputs": [
    {
     "data": {
      "text/plain": "True"
     },
     "execution_count": 2,
     "metadata": {},
     "output_type": "execute_result"
    }
   ],
   "source": [
    "torch.cuda.is_available()"
   ],
   "metadata": {
    "collapsed": false,
    "ExecuteTime": {
     "end_time": "2025-03-26T05:03:23.689656900Z",
     "start_time": "2025-03-26T05:03:23.644136400Z"
    }
   },
   "id": "73ce8b43e21c2433"
  },
  {
   "cell_type": "code",
   "execution_count": 11,
   "outputs": [],
   "source": [
    "class StandardBlock(nn.Module):\n",
    "    def __init__(self, channels, dilation):\n",
    "        super(StandardBlock, self).__init__()\n",
    "        self.conv1 = nn.Conv2d(channels, channels, kernel_size=3, padding=dilation, dilation=dilation)\n",
    "        self.elu1 = nn.ELU()\n",
    "        self.conv2 = nn.Conv2d(channels, channels, kernel_size=3, padding=dilation, dilation=dilation)\n",
    "        self.elu2 = nn.ELU()\n",
    "\n",
    "    def forward(self, x):\n",
    "        x = self.elu1(self.conv1(x))\n",
    "        x = self.elu2(self.conv2(x))\n",
    "        return x"
   ],
   "metadata": {
    "collapsed": false,
    "ExecuteTime": {
     "end_time": "2025-03-26T05:18:00.052250300Z",
     "start_time": "2025-03-26T05:18:00.025787Z"
    }
   },
   "id": "54e10623dbf3dc73"
  },
  {
   "cell_type": "code",
   "execution_count": 12,
   "outputs": [],
   "source": [
    "class ResidualBlock(nn.Module):\n",
    "    def __init__(self, channels, dilation):\n",
    "        super(ResidualBlock, self).__init__()\n",
    "        self.conv1 = nn.Conv2d(channels, channels, kernel_size=3, padding=dilation, dilation=dilation)\n",
    "        self.bn1 = nn.BatchNorm2d(channels)\n",
    "        self.elu1 = nn.ELU()\n",
    "        self.conv2 = nn.Conv2d(channels, channels, kernel_size=3, padding=dilation, dilation=dilation)\n",
    "        self.bn2 = nn.BatchNorm2d(channels)\n",
    "        self.elu2 = nn.ELU()\n",
    "        self.conv3 = nn.Conv2d(channels, channels, kernel_size=3, padding=dilation, dilation=dilation)\n",
    "\n",
    "    def forward(self, x):\n",
    "        identity = x\n",
    "        out = self.elu1(self.bn1(self.conv1(x)))\n",
    "        out = self.elu2(self.bn2(self.conv2(out)))\n",
    "        out = self.conv3(out)\n",
    "        return out + identity"
   ],
   "metadata": {
    "collapsed": false,
    "ExecuteTime": {
     "end_time": "2025-03-26T05:18:00.356025500Z",
     "start_time": "2025-03-26T05:18:00.337553200Z"
    }
   },
   "id": "43918d0c267934e8"
  },
  {
   "cell_type": "code",
   "execution_count": 18,
   "outputs": [],
   "source": [
    "class OCTDenoisingNet(nn.Module):\n",
    "    def __init__(self):\n",
    "        super(OCTDenoisingNet, self).__init__()\n",
    "        self.init_channels = 64\n",
    "\n",
    "        # Downsampling Tower\n",
    "        self.down1 = StandardBlock(self.init_channels, dilation=1)\n",
    "        self.conv_down1 = nn.Conv2d(self.init_channels, self.init_channels, kernel_size=3, stride=2, padding=1)\n",
    "\n",
    "        self.down2 = ResidualBlock(self.init_channels, dilation=2)\n",
    "        self.conv_down2 = nn.Conv2d(self.init_channels, self.init_channels, kernel_size=3, stride=2, padding=1)\n",
    "\n",
    "        self.down3 = ResidualBlock(self.init_channels, dilation=4)\n",
    "        self.conv_down3 = nn.Conv2d(self.init_channels, self.init_channels, kernel_size=3, stride=2, padding=1)\n",
    "\n",
    "        # Bottleneck (latent space)\n",
    "        self.bottleneck = StandardBlock(self.init_channels, dilation=1)\n",
    "\n",
    "        # Upsampling Tower\n",
    "        self.up1 = ResidualBlock(self.init_channels, dilation=4)\n",
    "        self.tconv1 = nn.ConvTranspose2d(self.init_channels, self.init_channels, kernel_size=3, stride=2, padding=1, output_padding=1)\n",
    "\n",
    "        self.up2 = ResidualBlock(self.init_channels, dilation=4)\n",
    "        self.tconv2 = nn.ConvTranspose2d(self.init_channels, self.init_channels, kernel_size=3, stride=2, padding=1, output_padding=1)\n",
    "\n",
    "        self.up3 = StandardBlock(self.init_channels, dilation=1)\n",
    "        self.tconv3 = nn.ConvTranspose2d(self.init_channels, self.init_channels, kernel_size=3, stride=2, padding=1, output_padding=1)\n",
    "\n",
    "        # Multi-scale fusion layers\n",
    "        self.fuse_convs = nn.ModuleList([\n",
    "            nn.Sequential(\n",
    "                nn.Conv2d(self.init_channels, self.init_channels, kernel_size=1),\n",
    "                nn.Upsample(scale_factor=8, mode='bilinear', align_corners=False)\n",
    "            ) for _ in range(4)\n",
    "        ])\n",
    "\n",
    "        # Final Output\n",
    "        self.final_conv = nn.Conv2d(self.init_channels * 5, 1, kernel_size=1)\n",
    "\n",
    "        self.tanh = nn.Tanh()\n",
    "\n",
    "    def forward(self, x):\n",
    "        skips = []\n",
    "\n",
    "        # Downsampling\n",
    "        x1 = self.down1(x)\n",
    "        skips.append(x1)\n",
    "        x = self.conv_down1(x1)\n",
    "\n",
    "        x2 = self.down2(x)\n",
    "        skips.append(x2)\n",
    "        x = self.conv_down2(x2)\n",
    "\n",
    "        x3 = self.down3(x)\n",
    "        skips.append(x3)\n",
    "        x = self.conv_down3(x3)\n",
    "\n",
    "        # Bottleneck\n",
    "        x4 = self.bottleneck(x)\n",
    "        skips.append(x4)\n",
    "\n",
    "        # Upsampling\n",
    "        x = self.up1(x4)\n",
    "        x = self.tconv1(x)\n",
    "        x = x + F.interpolate(skips[2], size=x.shape[2:], mode='bilinear', align_corners=False)\n",
    "\n",
    "        x = self.up2(x)\n",
    "        x = self.tconv2(x)\n",
    "        x = x + F.interpolate(skips[1], size=x.shape[2:], mode='bilinear', align_corners=False)\n",
    "\n",
    "        x = self.up3(x)\n",
    "        x = self.tconv3(x)\n",
    "        x = x + F.interpolate(skips[0], size=x.shape[2:], mode='bilinear', align_corners=False)\n",
    "\n",
    "        # Multi-scale fusion\n",
    "        fused = [F.interpolate(self.fuse_convs[i](skips[i]), size=x.shape[2:], mode='bilinear', align_corners=False) for i in range(4)]\n",
    "        x = torch.cat([x] + fused, dim=1)\n",
    "\n",
    "        # Output layer\n",
    "        x = self.final_conv(x)\n",
    "        x = self.tanh(x)\n",
    "        return x"
   ],
   "metadata": {
    "collapsed": false,
    "ExecuteTime": {
     "end_time": "2025-03-26T05:23:43.216274200Z",
     "start_time": "2025-03-26T05:23:43.195505500Z"
    }
   },
   "id": "19468185cbcbe3b6"
  },
  {
   "cell_type": "code",
   "execution_count": 19,
   "outputs": [],
   "source": [
    "model = OCTDenoisingNet()\n",
    "model.eval()\n",
    "dummy_input = torch.randn(1, 64, 496, 384)  # Simulated input with 64 feature channels\n",
    "output = model(dummy_input)"
   ],
   "metadata": {
    "collapsed": false,
    "ExecuteTime": {
     "end_time": "2025-03-26T05:23:45.834378400Z",
     "start_time": "2025-03-26T05:23:43.385719200Z"
    }
   },
   "id": "da41ce77fb8ed47e"
  },
  {
   "cell_type": "code",
   "execution_count": 20,
   "outputs": [
    {
     "data": {
      "text/plain": "tensor([[[[-0.0765, -0.0318, -0.0448,  ..., -0.0875, -0.0102, -0.0804],\n          [-0.0575, -0.0031, -0.1226,  ..., -0.0551,  0.0615,  0.0162],\n          [ 0.0191,  0.0627,  0.0969,  ..., -0.0339,  0.0275, -0.0084],\n          ...,\n          [ 0.0656, -0.1134, -0.0059,  ...,  0.0018, -0.1280, -0.0882],\n          [-0.1242,  0.0196, -0.0886,  ..., -0.1279, -0.0266,  0.0512],\n          [-0.0792, -0.0649, -0.1312,  ...,  0.1052, -0.0417, -0.0307]]]],\n       grad_fn=<TanhBackward0>)"
     },
     "execution_count": 20,
     "metadata": {},
     "output_type": "execute_result"
    }
   ],
   "source": [
    "output"
   ],
   "metadata": {
    "collapsed": false,
    "ExecuteTime": {
     "end_time": "2025-03-26T05:23:49.815897200Z",
     "start_time": "2025-03-26T05:23:49.807672400Z"
    }
   },
   "id": "567f0a12fddbda7"
  },
  {
   "cell_type": "code",
   "execution_count": null,
   "outputs": [],
   "source": [],
   "metadata": {
    "collapsed": false
   },
   "id": "ce53bc7920106d95"
  }
 ],
 "metadata": {
  "kernelspec": {
   "display_name": "Python 3",
   "language": "python",
   "name": "python3"
  },
  "language_info": {
   "codemirror_mode": {
    "name": "ipython",
    "version": 2
   },
   "file_extension": ".py",
   "mimetype": "text/x-python",
   "name": "python",
   "nbconvert_exporter": "python",
   "pygments_lexer": "ipython2",
   "version": "2.7.6"
  }
 },
 "nbformat": 4,
 "nbformat_minor": 5
}
